{
 "cells": [
  {
   "cell_type": "code",
   "execution_count": 1,
   "id": "f6800933-95f2-4f84-858b-7682c841a679",
   "metadata": {},
   "outputs": [],
   "source": [
    "%load_ext autoreload\n",
    "%autoreload 2"
   ]
  },
  {
   "cell_type": "code",
   "execution_count": 20,
   "id": "e943053a-58c0-47d9-844a-7f19c5f672a5",
   "metadata": {},
   "outputs": [],
   "source": [
    "from tf.browser.ner.helpers import parseScopes, parseScope, sortLocs, testScopes, partitionScopes, parseLoc, repLoc, repScope, _sameLoc, sortScopes"
   ]
  },
  {
   "cell_type": "code",
   "execution_count": 3,
   "id": "03ff130a-5320-4935-b4da-f576f556bab4",
   "metadata": {},
   "outputs": [
    {
     "data": {
      "text/plain": [
       "'01.002.3'"
      ]
     },
     "execution_count": 3,
     "metadata": {},
     "output_type": "execute_result"
    }
   ],
   "source": [
    "repLoc(parseLoc(\"1.2.3\"))"
   ]
  },
  {
   "cell_type": "code",
   "execution_count": 8,
   "id": "8252420b-0abc-4bf6-a89b-5c2891f17e4b",
   "metadata": {},
   "outputs": [
    {
     "data": {
      "text/plain": [
       "'01'"
      ]
     },
     "execution_count": 8,
     "metadata": {},
     "output_type": "execute_result"
    }
   ],
   "source": [
    "repScope(parseScope(\"1\"))"
   ]
  },
  {
   "cell_type": "code",
   "execution_count": 21,
   "id": "cdfce25c-4cfe-471f-91a8-fb93a34bd7c9",
   "metadata": {},
   "outputs": [
    {
     "data": {
      "text/plain": [
       "(((1, 0, 0), (1, -1, -1)), ((1, 5, 0), (2, -1, -1)))"
      ]
     },
     "execution_count": 21,
     "metadata": {},
     "output_type": "execute_result"
    }
   ],
   "source": [
    "sortScopes(parseScopes(\"1, 1.5-2\"))"
   ]
  },
  {
   "cell_type": "code",
   "execution_count": 9,
   "id": "1faca8db-8fdf-46ab-8f38-4b8377e60884",
   "metadata": {},
   "outputs": [
    {
     "data": {
      "text/plain": [
       "True"
      ]
     },
     "execution_count": 9,
     "metadata": {},
     "output_type": "execute_result"
    }
   ],
   "source": [
    "_sameLoc((1, 0, 0), (1, -1, -1))"
   ]
  },
  {
   "cell_type": "code",
   "execution_count": 45,
   "id": "21f536ea-3b1e-44e1-b710-6e6a04acb386",
   "metadata": {},
   "outputs": [
    {
     "data": {
      "text/plain": [
       "{'result': (), 'warning': None, 'normal': ''}"
      ]
     },
     "execution_count": 45,
     "metadata": {},
     "output_type": "execute_result"
    }
   ],
   "source": [
    "parseLoc(\"\", plain=False)"
   ]
  },
  {
   "cell_type": "code",
   "execution_count": 52,
   "id": "1a053759-e096-4ea7-a343-8a2ecb319b07",
   "metadata": {},
   "outputs": [
    {
     "data": {
      "text/plain": [
       "{'result': ((0, 0, 0), (-1, -1, -1)), 'warning': [], 'normal': ''}"
      ]
     },
     "execution_count": 52,
     "metadata": {},
     "output_type": "execute_result"
    }
   ],
   "source": [
    "parseScope(\"\", plain=False)"
   ]
  },
  {
   "cell_type": "code",
   "execution_count": 55,
   "id": "5d471b21-b4d8-4c2e-b6dc-a3c3366d7216",
   "metadata": {},
   "outputs": [
    {
     "data": {
      "text/plain": [
       "{'result': '', 'warning': [], 'normal': ''}"
      ]
     },
     "execution_count": 55,
     "metadata": {},
     "output_type": "execute_result"
    }
   ],
   "source": [
    "parseScopes(\"\", plain=False)"
   ]
  },
  {
   "cell_type": "code",
   "execution_count": 57,
   "id": "76deae67-d53f-47d6-82c8-bb4241a8b17d",
   "metadata": {},
   "outputs": [
    {
     "data": {
      "text/plain": [
       "{'result': (((1, 0, 0), (1, -1, -1)),), 'warning': [], 'normal': '01'}"
      ]
     },
     "execution_count": 57,
     "metadata": {},
     "output_type": "execute_result"
    }
   ],
   "source": [
    "parseScopes(\",1\", plain=False)"
   ]
  },
  {
   "cell_type": "code",
   "execution_count": 60,
   "id": "736d9197-d918-45da-ac56-91eb7ac00aad",
   "metadata": {},
   "outputs": [
    {
     "name": "stdout",
     "output_type": "stream",
     "text": [
      "Errors in aap: not a valid location: aap\n",
      " => \n",
      "\t\n",
      ",1 => 01\n",
      "\t01\n",
      "1 => 01\n",
      "\t01\n",
      "1.5.6, 1.5.1 => 01.005.1, 01.005.6\n",
      "\t01.005.1, 01.005.6\n",
      "1.5.8-1.5.10 => 01.005.8-01.005.10\n",
      "\t01.005.8-01.005.10\n",
      "1.5.6-1.5.7 => 01.005.6-01.005.7\n",
      "\t01.005.6-01.005.7\n",
      "1.5-2 => 01.005-02\n",
      "\t01.005-02\n",
      "2.5-2.5.3, 2.5.6, 2.5.9-2.6 => 02.005-02.005.3, 02.005.6, 02.005.9-02.006\n",
      "\t02.005-02.005.3, 02.005.6, 02.005.9-02.006\n",
      "4.5.9-4.6, 4.5.6, 4.5-4.5.3 => 04.005-04.005.3, 04.005.6, 04.005.9-04.006\n",
      "\t04.005-04.005.3, 04.005.6, 04.005.9-04.006\n",
      "3.17.4-6, 8.2.4-9.3.5, 9.10.3-9.11 => 03.017.4-06, 08.002.4-09.003.5, 09.010.3-09.011\n",
      "\t03.017.4-06, 08.002.4-09.003.5, 09.010.3-09.011\n",
      "3.17.4-6 => 03.017.4-06\n",
      "\t03.017.4-06\n",
      "6-7, 6-7.3 => 06-07, 06-07.003\n",
      "\t06-07, 06-07.003\n",
      "\n",
      "Boundaries\n",
      "\t01\n",
      "\t\tb: 01\n",
      "\t01.005\n",
      "\t\tb: 01.005-02\n",
      "\t01.005.1\n",
      "\t\tb: 01.005.1\n",
      "\t\te: 01.005.1\n",
      "\t01.005.6\n",
      "\t\tb: 01.005.6-01.005.7, 01.005.6\n",
      "\t\te: 01.005.6\n",
      "\t01.005.7\n",
      "\t\te: 01.005.6-01.005.7\n",
      "\t01.005.8\n",
      "\t\tb: 01.005.8-01.005.10\n",
      "\t01.005.10\n",
      "\t\te: 01.005.8-01.005.10\n",
      "\t01\n",
      "\t\te: 01\n",
      "\t02.005\n",
      "\t\tb: 02.005-02.005.3\n",
      "\t02.005.3\n",
      "\t\te: 02.005-02.005.3\n",
      "\t02.005.6\n",
      "\t\tb: 02.005.6\n",
      "\t\te: 02.005.6\n",
      "\t02.005.9\n",
      "\t\tb: 02.005.9-02.006\n",
      "\t02.006\n",
      "\t\te: 02.005.9-02.006\n",
      "\t02\n",
      "\t\te: 01.005-02\n",
      "\t03.017.4\n",
      "\t\tb: 03.017.4-06\n",
      "\t04.005\n",
      "\t\tb: 04.005-04.005.3\n",
      "\t04.005.3\n",
      "\t\te: 04.005-04.005.3\n",
      "\t04.005.6\n",
      "\t\tb: 04.005.6\n",
      "\t\te: 04.005.6\n",
      "\t04.005.9\n",
      "\t\tb: 04.005.9-04.006\n",
      "\t04.006\n",
      "\t\te: 04.005.9-04.006\n",
      "\t06\n",
      "\t\tb: 06-07, 06-07.003\n",
      "\t06\n",
      "\t\te: 03.017.4-06\n",
      "\t07.003\n",
      "\t\te: 06-07.003\n",
      "\t07\n",
      "\t\te: 06-07\n",
      "\t08.002.4\n",
      "\t\tb: 08.002.4-09.003.5\n",
      "\t09.003.5\n",
      "\t\te: 08.002.4-09.003.5\n",
      "\t09.010.3\n",
      "\t\tb: 09.010.3-09.011\n",
      "\t09.011\n",
      "\t\te: 09.010.3-09.011\n",
      "\n",
      "Intervals\n",
      "\tinterval from 01         to 01.004     for scopes\n",
      "                                                            01\n",
      "\tinterval from 01.005     to 01.005     for scopes\n",
      "                                                            01\n",
      "                                                            01.005-02\n",
      "\tinterval from 01.005.1   to 01.005.1   for scopes\n",
      "                                                            01\n",
      "                                                            01.005-02\n",
      "                                                            01.005.1, 01.005.6\n",
      "\tinterval from 01.005.2   to 01.005.5   for scopes\n",
      "                                                            01\n",
      "                                                            01.005-02\n",
      "\tinterval from 01.005.6   to 01.005.6   for scopes\n",
      "                                                            01\n",
      "                                                            01.005-02\n",
      "                                                            01.005.6-01.005.7\n",
      "                                                            01.005.1, 01.005.6\n",
      "\tinterval from 01.005.7   to 01.005.7   for scopes\n",
      "                                                            01\n",
      "                                                            01.005-02\n",
      "                                                            01.005.6-01.005.7\n",
      "\tinterval from 01.005.8   to 01.005.10  for scopes\n",
      "                                                            01\n",
      "                                                            01.005-02\n",
      "                                                            01.005.8-01.005.10\n",
      "\tinterval from 01.005.11  to 01         for scopes\n",
      "                                                            01\n",
      "                                                            01.005-02\n",
      "\tinterval from 02         to 02.004     for scopes\n",
      "                                                            01.005-02\n",
      "\tinterval from 02.005     to 02.005.3   for scopes\n",
      "                                                            01.005-02\n",
      "                                                            02.005-02.005.3, 02.005.6, 02.005.9-02.006\n",
      "\tinterval from 02.005.4   to 02.005.5   for scopes\n",
      "                                                            01.005-02\n",
      "\tinterval from 02.005.6   to 02.005.6   for scopes\n",
      "                                                            01.005-02\n",
      "                                                            02.005-02.005.3, 02.005.6, 02.005.9-02.006\n",
      "\tinterval from 02.005.7   to 02.005.8   for scopes\n",
      "                                                            01.005-02\n",
      "\tinterval from 02.005.9   to 02.006     for scopes\n",
      "                                                            01.005-02\n",
      "                                                            02.005-02.005.3, 02.005.6, 02.005.9-02.006\n",
      "\tinterval from 02.007     to 02         for scopes\n",
      "                                                            01.005-02\n",
      "\tinterval from 03.017.4   to 04.004     for scopes\n",
      "                                                            03.017.4-06, 08.002.4-09.003.5, 09.010.3-09.011\n",
      "                                                            03.017.4-06\n",
      "\tinterval from 04.005     to 04.005.3   for scopes\n",
      "                                                            03.017.4-06, 08.002.4-09.003.5, 09.010.3-09.011\n",
      "                                                            03.017.4-06\n",
      "                                                            04.005-04.005.3, 04.005.6, 04.005.9-04.006\n",
      "\tinterval from 04.005.4   to 04.005.5   for scopes\n",
      "                                                            03.017.4-06, 08.002.4-09.003.5, 09.010.3-09.011\n",
      "                                                            03.017.4-06\n",
      "\tinterval from 04.005.6   to 04.005.6   for scopes\n",
      "                                                            03.017.4-06, 08.002.4-09.003.5, 09.010.3-09.011\n",
      "                                                            03.017.4-06\n",
      "                                                            04.005-04.005.3, 04.005.6, 04.005.9-04.006\n",
      "\tinterval from 04.005.7   to 04.005.8   for scopes\n",
      "                                                            03.017.4-06, 08.002.4-09.003.5, 09.010.3-09.011\n",
      "                                                            03.017.4-06\n",
      "\tinterval from 04.005.9   to 04.006     for scopes\n",
      "                                                            03.017.4-06, 08.002.4-09.003.5, 09.010.3-09.011\n",
      "                                                            03.017.4-06\n",
      "                                                            04.005-04.005.3, 04.005.6, 04.005.9-04.006\n",
      "\tinterval from 04.007     to 05         for scopes\n",
      "                                                            03.017.4-06, 08.002.4-09.003.5, 09.010.3-09.011\n",
      "                                                            03.017.4-06\n",
      "\tinterval from 06         to 06         for scopes\n",
      "                                                            03.017.4-06, 08.002.4-09.003.5, 09.010.3-09.011\n",
      "                                                            03.017.4-06\n",
      "                                                            06-07, 06-07.003\n",
      "\tinterval from 07         to 07.003     for scopes\n",
      "                                                            06-07, 06-07.003\n",
      "\tinterval from 07.004     to 07         for scopes\n",
      "                                                            06-07, 06-07.003\n",
      "\tinterval from 08.002.4   to 09.003.5   for scopes\n",
      "                                                            03.017.4-06, 08.002.4-09.003.5, 09.010.3-09.011\n",
      "\tinterval from 09.010.3   to 09.011     for scopes\n",
      "                                                            03.017.4-06, 08.002.4-09.003.5, 09.010.3-09.011\n"
     ]
    }
   ],
   "source": [
    "scopeStrs = [\n",
    "    \"aap\",\n",
    "    \"\",\n",
    "    \",1\",\n",
    "    \"1\",\n",
    "    \"1.5.6, 1.5.1\",\n",
    "    \"1.5.8-1.5.10\",\n",
    "    \"1.5.6-1.5.7\",\n",
    "    \"1.5-2\",\n",
    "    \"2.5-2.5.3, 2.5.6, 2.5.9-2.6\",\n",
    "    \"4.5.9-4.6, 4.5.6, 4.5-4.5.3\",\n",
    "    \"3.17.4-6, 8.2.4-9.3.5, 9.10.3-9.11\",\n",
    "    \"3.17.4-6\",\n",
    "    \"6-7, 6-7.3\",\n",
    "]\n",
    "\n",
    "testScopes(scopeStrs)"
   ]
  },
  {
   "cell_type": "code",
   "execution_count": null,
   "id": "50f7f897-4833-4945-87a8-0f170c22e798",
   "metadata": {},
   "outputs": [],
   "source": []
  }
 ],
 "metadata": {
  "kernelspec": {
   "display_name": "Python 3 (ipykernel)",
   "language": "python",
   "name": "python3"
  },
  "language_info": {
   "codemirror_mode": {
    "name": "ipython",
    "version": 3
   },
   "file_extension": ".py",
   "mimetype": "text/x-python",
   "name": "python",
   "nbconvert_exporter": "python",
   "pygments_lexer": "ipython3",
   "version": "3.12.4"
  }
 },
 "nbformat": 4,
 "nbformat_minor": 5
}
