{
 "cells": [
  {
   "cell_type": "code",
   "execution_count": 1,
   "id": "036097e1-f8b3-4cf0-975d-df186dde1e1a",
   "metadata": {},
   "outputs": [],
   "source": [
    "import re"
   ]
  },
  {
   "cell_type": "code",
   "execution_count": 12,
   "id": "e8d0be57-b1fb-42de-b4e2-23e6c3bf53ac",
   "metadata": {},
   "outputs": [],
   "source": [
    "HI_REDUCE = re.compile(\n",
    "    r\"\"\"\n",
    "    </hi>\n",
    "    (\n",
    "        \\s*\n",
    "        \\[\n",
    "        [^\\]]*\n",
    "        \\]\n",
    "        \\s*\n",
    "    )\n",
    "    <hi\\b[^>]*>\n",
    "    \"\"\",\n",
    "    re.X | re.S,\n",
    ")\n"
   ]
  },
  {
   "cell_type": "code",
   "execution_count": 15,
   "id": "0f2cdc8e-b4c7-4e1b-aa4a-7d5a9f38c498",
   "metadata": {},
   "outputs": [],
   "source": [
    "line = \"\"\"\n",
    "aap</hi> [ de ] \n",
    "<hi>\n",
    "noot\n",
    "\"\"\""
   ]
  },
  {
   "cell_type": "code",
   "execution_count": 16,
   "id": "e0080759-e0b0-4a67-aeb6-e39ad1074cfd",
   "metadata": {},
   "outputs": [
    {
     "name": "stdout",
     "output_type": "stream",
     "text": [
      "\n",
      "aap [ de ] \n",
      "\n",
      "noot\n",
      "\n"
     ]
    }
   ],
   "source": [
    "print(HI_REDUCE.sub(r\"\\1\", line))"
   ]
  },
  {
   "cell_type": "code",
   "execution_count": null,
   "id": "527a1401-0f7c-4041-86ee-bfde21b7bad7",
   "metadata": {},
   "outputs": [],
   "source": []
  }
 ],
 "metadata": {
  "kernelspec": {
   "display_name": "Python 3 (ipykernel)",
   "language": "python",
   "name": "python3"
  },
  "language_info": {
   "codemirror_mode": {
    "name": "ipython",
    "version": 3
   },
   "file_extension": ".py",
   "mimetype": "text/x-python",
   "name": "python",
   "nbconvert_exporter": "python",
   "pygments_lexer": "ipython3",
   "version": "3.12.4"
  }
 },
 "nbformat": 4,
 "nbformat_minor": 5
}
